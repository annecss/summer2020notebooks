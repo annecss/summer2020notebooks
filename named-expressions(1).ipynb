{
 "cells": [
  {
   "cell_type": "markdown",
   "metadata": {},
   "source": [
    "# Expressions, named values and methods\n",
    "\n",
    "Scala is an \"expression-oriented\" language: every computable statement has a value.\n",
    "\n",
    "The following cell includes an expression, `\"Iliad\"`.  If you run that cell, you will see that Scala displays a *type* or *class* for the expression (here, `String`), and the result of computing the expression (here, `\"Iliad\"`)."
   ]
  },
  {
   "cell_type": "code",
   "execution_count": 2,
   "metadata": {
    "inputHidden": false,
    "outputHidden": false
   },
   "outputs": [
    {
     "data": {
      "text/plain": [
       "\u001b[36mres1\u001b[39m: \u001b[32mString\u001b[39m = \u001b[32m\"Odyssey\"\u001b[39m"
      ]
     },
     "execution_count": 2,
     "metadata": {},
     "output_type": "execute_result"
    }
   ],
   "source": [
    "\"Odyssey\""
   ]
  },
  {
   "cell_type": "markdown",
   "metadata": {},
   "source": [
    "You can use the keyword `val` to name and reuse a computed expression.  When you run the following cell, you'll see a very similar display:  a class (`String`), and the result of the expression (`\"Iliad\"`), but this time you'll notice that that type and result are preceded by the name, `epic`."
   ]
  },
  {
   "cell_type": "code",
   "execution_count": 3,
   "metadata": {
    "inputHidden": false,
    "outputHidden": false
   },
   "outputs": [
    {
     "data": {
      "text/plain": [
       "\u001b[36mepic\u001b[39m: \u001b[32mString\u001b[39m = \u001b[32m\"Odyssey\"\u001b[39m"
      ]
     },
     "execution_count": 3,
     "metadata": {},
     "output_type": "execute_result"
    }
   ],
   "source": [
    "val epic = \"Odyssey\""
   ]
  },
  {
   "cell_type": "markdown",
   "metadata": {},
   "source": [
    "Now you can use the name by itself.  The result has the class and resulting value that you expect."
   ]
  },
  {
   "cell_type": "code",
   "execution_count": 4,
   "metadata": {
    "inputHidden": false,
    "outputHidden": false
   },
   "outputs": [
    {
     "data": {
      "text/plain": [
       "\u001b[36mres3\u001b[39m: \u001b[32mString\u001b[39m = \u001b[32m\"Odyssey\"\u001b[39m"
      ]
     },
     "execution_count": 4,
     "metadata": {},
     "output_type": "execute_result"
    }
   ],
   "source": [
    "epic"
   ]
  },
  {
   "cell_type": "markdown",
   "metadata": {},
   "source": [
    "## Methods\n",
    "\n",
    "Classes can include *methods* you can use with any expression of that class to create a new expression.  Scala's syntax for using a method is to append a period and the method name to the expression.  For example, the `String` class has a `size` method."
   ]
  },
  {
   "cell_type": "code",
   "execution_count": 5,
   "metadata": {
    "inputHidden": false,
    "outputHidden": false
   },
   "outputs": [
    {
     "data": {
      "text/plain": [
       "\u001b[36mres4\u001b[39m: \u001b[32mInt\u001b[39m = \u001b[32m7\u001b[39m"
      ]
     },
     "execution_count": 5,
     "metadata": {},
     "output_type": "execute_result"
    }
   ],
   "source": [
    "epic.size"
   ]
  },
  {
   "cell_type": "markdown",
   "metadata": {},
   "source": [
    "The class of expression that the `size` method creates is `Int` (an integer value).  Its value is 5 because there are 5 characters in `\"Iliad\"`, the value of our `epic` expression.\n",
    "\n",
    "Some methods require additional information to compute their value. These are called *parameters*, and are listed in parentheses after method name.  The `String` class has a `contains` method that requires you to provide a second `String`, for example. "
   ]
  },
  {
   "cell_type": "code",
   "execution_count": 6,
   "metadata": {
    "inputHidden": false,
    "outputHidden": false
   },
   "outputs": [
    {
     "data": {
      "text/plain": [
       "\u001b[36mres5\u001b[39m: \u001b[32mBoolean\u001b[39m = true"
      ]
     },
     "execution_count": 6,
     "metadata": {},
     "output_type": "execute_result"
    }
   ],
   "source": [
    "epic.contains(\"dy\")"
   ]
  },
  {
   "cell_type": "markdown",
   "metadata": {},
   "source": [
    "The  result of the `contains` method belongs to the `Boolean` class.  `Boolean` expressions have one of only two possible values, `true` or `false`.  Notice that these values are written *without* quotation marks.  What class would the expressions `\"true\"` or `\"false\"` belong to? (If you're not sure, find out by adding these to a code cell.)\n"
   ]
  },
  {
   "cell_type": "markdown",
   "metadata": {},
   "source": [
    "A method of the `String` class that you'll use frequenlty is `+`:  this method concatenates the `String` with a second `String`."
   ]
  },
  {
   "cell_type": "code",
   "execution_count": 7,
   "metadata": {
    "inputHidden": false,
    "outputHidden": false
   },
   "outputs": [
    {
     "data": {
      "text/plain": [
       "\u001b[36mres6\u001b[39m: \u001b[32mString\u001b[39m = \u001b[32m\"Odyssey of Homer\"\u001b[39m"
      ]
     },
     "execution_count": 7,
     "metadata": {},
     "output_type": "execute_result"
    }
   ],
   "source": [
    "epic.+(\" of Homer\")"
   ]
  },
  {
   "cell_type": "markdown",
   "metadata": {},
   "source": [
    "Since the `+` method only requires one parameter, Scala also permits a more idiomatic syntax, illustrated here."
   ]
  },
  {
   "cell_type": "code",
   "execution_count": 8,
   "metadata": {
    "inputHidden": false,
    "outputHidden": false
   },
   "outputs": [
    {
     "data": {
      "text/plain": [
       "\u001b[36mtitle\u001b[39m: \u001b[32mString\u001b[39m = \u001b[32m\"The Odyssey of Homer\"\u001b[39m"
      ]
     },
     "execution_count": 8,
     "metadata": {},
     "output_type": "execute_result"
    }
   ],
   "source": [
    "val title = \"The \" + epic + \" of Homer\""
   ]
  },
  {
   "cell_type": "markdown",
   "metadata": {},
   "source": [
    "Some methods require more than one parameter.  These are listed between parentheses, separated by a comma.  The `slice` method of the `String` class, for example, \"slices\" out characters of a `String` based on two integers you supply:  an index or count for the first character to include, and a second index for the character where we should stop slicing (or, if you prefer, the first character *not* to include).\n",
    "\n",
    "As in many programming languages, Scala begins counting with zero, so if we wanted to extract the word \"The\" from our title, we could slice from 0 to 3."
   ]
  },
  {
   "cell_type": "code",
   "execution_count": 11,
   "metadata": {
    "inputHidden": false,
    "outputHidden": false
   },
   "outputs": [
    {
     "data": {
      "text/plain": [
       "\u001b[36mres10\u001b[39m: \u001b[32mString\u001b[39m = \u001b[32m\"The Odyssey\"\u001b[39m"
      ]
     },
     "execution_count": 11,
     "metadata": {},
     "output_type": "execute_result"
    }
   ],
   "source": [
    "title.slice(0, 11)"
   ]
  },
  {
   "cell_type": "markdown",
   "metadata": {},
   "source": [
    "## Summary\n",
    "\n",
    "- *expressions* belong to a *class*, and have a *value*\n",
    "- use the keyword `val` to name an expression\n",
    "- classes define *methods* you can use with expressions of that class\n",
    "- some methods require *parameters* with additional information\n",
    "- methods produce new expressions with their own class and value"
   ]
  }
 ],
 "metadata": {
  "kernel_info": {
   "name": "scala212"
  },
  "kernelspec": {
   "display_name": "Scala (2.12)",
   "language": "scala",
   "name": "scala212"
  },
  "language_info": {
   "codemirror_mode": "text/x-scala",
   "file_extension": ".scala",
   "mimetype": "text/x-scala",
   "name": "scala",
   "nbconvert_exporter": "script",
   "version": "2.12.10"
  },
  "nteract": {
   "version": "0.15.0"
  }
 },
 "nbformat": 4,
 "nbformat_minor": 2
}
